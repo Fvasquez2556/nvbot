{
 "cells": [
  {
   "cell_type": "markdown",
   "metadata": {},
   "source": [
    "# 📊 Análisis de Señales del Bot NVBot\n",
    "\n",
    "Este notebook permite analizar las señales generadas por el bot usando `signals_log.csv`. Puedes explorar la precisión, comportamiento de los indicadores y exportar reportes útiles."
   ]
  },
  {
   "cell_type": "code",
   "execution_count": null,
   "metadata": {},
   "outputs": [
    {
     "ename": "ModuleNotFoundError",
     "evalue": "No module named 'pandas'",
     "output_type": "error",
     "traceback": [
      "\u001b[31m---------------------------------------------------------------------------\u001b[39m",
      "\u001b[31mModuleNotFoundError\u001b[39m                       Traceback (most recent call last)",
      "\u001b[36mCell\u001b[39m\u001b[36m \u001b[39m\u001b[32mIn[1]\u001b[39m\u001b[32m, line 2\u001b[39m\n\u001b[32m      1\u001b[39m \u001b[38;5;66;03m# 🔹 Cargar CSV de señales\u001b[39;00m\n\u001b[32m----> \u001b[39m\u001b[32m2\u001b[39m \u001b[38;5;28;01mimport\u001b[39;00m\u001b[38;5;250m \u001b[39m\u001b[34;01mpandas\u001b[39;00m\u001b[38;5;250m \u001b[39m\u001b[38;5;28;01mas\u001b[39;00m\u001b[38;5;250m \u001b[39m\u001b[34;01mpd\u001b[39;00m\n\u001b[32m      4\u001b[39m ruta_csv = \u001b[33m'\u001b[39m\u001b[33msignals_log.csv\u001b[39m\u001b[33m'\u001b[39m  \u001b[38;5;66;03m# Ajusta si el archivo está en otro lugar\u001b[39;00m\n\u001b[32m      5\u001b[39m df = pd.read_csv(ruta_csv)\n",
      "\u001b[31mModuleNotFoundError\u001b[39m: No module named 'pandas'"
     ]
    }
   ],
   "source": [
    "# 🔹 Cargar CSV de señales\n",
    "import pandas as pd\n",
    "\n",
    "ruta_csv = '\\signals_log.csv'  # Ajusta si el archivo está en otro lugar\n",
    "df = pd.read_csv(ruta_csv)\n",
    "df['timestamp'] = pd.to_datetime(df['timestamp'])\n",
    "df.head()"
   ]
  },
  {
   "cell_type": "code",
   "execution_count": null,
   "metadata": {},
   "outputs": [],
   "source": [
    "# 🔎 Filtrar por símbolo o fecha\n",
    "symbol_filtro = 'SUI/USDT'  # Cambia esto\n",
    "df_filtrado = df[df['symbol'] == symbol_filtro]\n",
    "df_filtrado.head()"
   ]
  },
  {
   "cell_type": "code",
   "execution_count": null,
   "metadata": {},
   "outputs": [],
   "source": [
    "# 📈 Visualizar rebotes estimados vs. reales\n",
    "import matplotlib.pyplot as plt\n",
    "\n",
    "df_filtrado['rango_subida_estimado'] = pd.to_numeric(df_filtrado['rango_subida_estimado'], errors='coerce')\n",
    "df_filtrado.dropna(subset=['rango_subida_estimado'], inplace=True)\n",
    "\n",
    "plt.figure(figsize=(10,5))\n",
    "plt.plot(df_filtrado['timestamp'], df_filtrado['rango_subida_estimado'], marker='o', label='Subida Estimada')\n",
    "# Aquí podrías incluir columna real si la agregas\n",
    "plt.title(f'Rebotes estimados en {symbol_filtro}')\n",
    "plt.ylabel('% Subida estimada')\n",
    "plt.xlabel('Fecha')\n",
    "plt.grid(True)\n",
    "plt.legend()\n",
    "plt.show()"
   ]
  },
  {
   "cell_type": "code",
   "execution_count": null,
   "metadata": {},
   "outputs": [],
   "source": [
    "# 📊 Histograma de RSI\n",
    "plt.figure(figsize=(8,4))\n",
    "df_filtrado['rsi'].hist(bins=20)\n",
    "plt.title('Distribución de RSI en señales')\n",
    "plt.xlabel('RSI')\n",
    "plt.ylabel('Frecuencia')\n",
    "plt.grid(True)\n",
    "plt.show()"
   ]
  },
  {
   "cell_type": "code",
   "execution_count": null,
   "metadata": {},
   "outputs": [],
   "source": [
    "# 📈 Comparar RSI con % subida estimada\n",
    "plt.figure(figsize=(8,5))\n",
    "plt.scatter(df_filtrado['rsi'], df_filtrado['rango_subida_estimado'], alpha=0.7)\n",
    "plt.title('RSI vs. Subida Estimada')\n",
    "plt.xlabel('RSI')\n",
    "plt.ylabel('% Subida Estimada')\n",
    "plt.grid(True)\n",
    "plt.show()"
   ]
  }
 ],
 "metadata": {
  "kernelspec": {
   "display_name": "Python 3 (ipykernel)",
   "language": "python",
   "name": "python3"
  },
  "language_info": {
   "codemirror_mode": {
    "name": "ipython",
    "version": 3
   },
   "file_extension": ".py",
   "mimetype": "text/x-python",
   "name": "python",
   "nbconvert_exporter": "python",
   "pygments_lexer": "ipython3",
   "version": "3.12.10"
  }
 },
 "nbformat": 4,
 "nbformat_minor": 4
}
